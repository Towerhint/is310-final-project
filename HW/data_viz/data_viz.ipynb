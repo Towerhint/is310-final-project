{
 "cells": [
  {
   "cell_type": "code",
   "execution_count": 1,
   "metadata": {},
   "outputs": [
    {
     "name": "stderr",
     "output_type": "stream",
     "text": [
      "[nltk_data] Downloading package punkt to /Users/fafnir/nltk_data...\n",
      "[nltk_data]   Package punkt is already up-to-date!\n",
      "[nltk_data] Downloading package stopwords to\n",
      "[nltk_data]     /Users/fafnir/nltk_data...\n",
      "[nltk_data]   Package stopwords is already up-to-date!\n"
     ]
    }
   ],
   "source": [
    "import pandas as pd\n",
    "import numpy as np\n",
    "import seaborn as sns; sns.set()\n",
    "import matplotlib.pyplot as plt\n",
    "import nltk\n",
    "nltk.download('punkt')\n",
    "from nltk import word_tokenize\n",
    "from nltk import FreqDist\n",
    "from nltk.stem import PorterStemmer\n",
    "nltk.download('stopwords')\n",
    "from nltk.corpus import stopwords\n",
    "stop_words = set(stopwords.words('english'))\n",
    "porter = PorterStemmer()\n",
    "from sklearn.feature_extraction.text import TfidfVectorizer\n",
    "import altair as alt\n",
    "from vega_datasets import data"
   ]
  },
  {
   "cell_type": "code",
   "execution_count": 3,
   "metadata": {},
   "outputs": [
    {
     "data": {
      "text/html": [
       "<div>\n",
       "<style scoped>\n",
       "    .dataframe tbody tr th:only-of-type {\n",
       "        vertical-align: middle;\n",
       "    }\n",
       "\n",
       "    .dataframe tbody tr th {\n",
       "        vertical-align: top;\n",
       "    }\n",
       "\n",
       "    .dataframe thead th {\n",
       "        text-align: right;\n",
       "    }\n",
       "</style>\n",
       "<table border=\"1\" class=\"dataframe\">\n",
       "  <thead>\n",
       "    <tr style=\"text-align: right;\">\n",
       "      <th></th>\n",
       "      <th>dates</th>\n",
       "      <th>text</th>\n",
       "    </tr>\n",
       "  </thead>\n",
       "  <tbody>\n",
       "    <tr>\n",
       "      <th>0</th>\n",
       "      <td>1987-1988</td>\n",
       "      <td>From: MCCARTY@UTOREPAS\\nSubject: \\nDate: 12 Ma...</td>\n",
       "    </tr>\n",
       "    <tr>\n",
       "      <th>1</th>\n",
       "      <td>1988-1989</td>\n",
       "      <td>From: Sebastian Rahtz \\nSubject: C++ and Gnu o...</td>\n",
       "    </tr>\n",
       "    <tr>\n",
       "      <th>2</th>\n",
       "      <td>1989-1990</td>\n",
       "      <td>From: Willard McCarty \\nSubject: Happy Birthda...</td>\n",
       "    </tr>\n",
       "    <tr>\n",
       "      <th>3</th>\n",
       "      <td>1990-1991</td>\n",
       "      <td>From: Elaine Brennan &amp; Allen Renear \\nSubject:...</td>\n",
       "    </tr>\n",
       "    <tr>\n",
       "      <th>4</th>\n",
       "      <td>1991-1992</td>\n",
       "      <td>From: Elaine Brennan &amp; Allen Renear \\nSubject:...</td>\n",
       "    </tr>\n",
       "  </tbody>\n",
       "</table>\n",
       "</div>"
      ],
      "text/plain": [
       "       dates                                               text\n",
       "0  1987-1988  From: MCCARTY@UTOREPAS\\nSubject: \\nDate: 12 Ma...\n",
       "1  1988-1989  From: Sebastian Rahtz \\nSubject: C++ and Gnu o...\n",
       "2  1989-1990  From: Willard McCarty \\nSubject: Happy Birthda...\n",
       "3  1990-1991  From: Elaine Brennan & Allen Renear \\nSubject:...\n",
       "4  1991-1992  From: Elaine Brennan & Allen Renear \\nSubject:..."
      ]
     },
     "execution_count": 3,
     "metadata": {},
     "output_type": "execute_result"
    }
   ],
   "source": [
    "humanist_vols = pd.read_csv(\"web_scraped_humanist_listserv.csv\")\n",
    "humanist_vols.head()"
   ]
  },
  {
   "cell_type": "markdown",
   "metadata": {},
   "source": [
    "### Using the tfidf_df from our Introduction to Unstructured Data and Text Analysis Assignment, try and use Altair to create visualizations to answer the following questions:\n",
    "\n",
    "* What are the top ten unique TFIDF terms across our entire corpus and what score do they each have?\n",
    "* What are the top five TFIDF terms for each volume?\n"
   ]
  },
  {
   "cell_type": "code",
   "execution_count": 5,
   "metadata": {},
   "outputs": [
    {
     "name": "stderr",
     "output_type": "stream",
     "text": [
      "/var/folders/85/rf1k6_ks1k9gs93q1mmq3y_r0000gn/T/ipykernel_89396/3431225820.py:13: SettingWithCopyWarning: \n",
      "A value is trying to be set on a copy of a slice from a DataFrame.\n",
      "Try using .loc[row_indexer,col_indexer] = value instead\n",
      "\n",
      "See the caveats in the documentation: https://pandas.pydata.org/pandas-docs/stable/user_guide/indexing.html#returning-a-view-versus-a-copy\n",
      "  humanist_vols['stemmed_text'] = humanist_vols.apply(stem_words, axis=1)\n",
      "/Users/fafnir/opt/anaconda3/lib/python3.9/site-packages/sklearn/utils/deprecation.py:87: FutureWarning: Function get_feature_names is deprecated; get_feature_names is deprecated in 1.0 and will be removed in 1.2. Please use get_feature_names_out instead.\n",
      "  warnings.warn(msg, category=FutureWarning)\n",
      "/Users/fafnir/opt/anaconda3/lib/python3.9/site-packages/sklearn/utils/deprecation.py:87: FutureWarning: Function get_feature_names is deprecated; get_feature_names is deprecated in 1.0 and will be removed in 1.2. Please use get_feature_names_out instead.\n",
      "  warnings.warn(msg, category=FutureWarning)\n",
      "/Users/fafnir/opt/anaconda3/lib/python3.9/site-packages/sklearn/utils/deprecation.py:87: FutureWarning: Function get_feature_names is deprecated; get_feature_names is deprecated in 1.0 and will be removed in 1.2. Please use get_feature_names_out instead.\n",
      "  warnings.warn(msg, category=FutureWarning)\n",
      "/Users/fafnir/opt/anaconda3/lib/python3.9/site-packages/sklearn/utils/deprecation.py:87: FutureWarning: Function get_feature_names is deprecated; get_feature_names is deprecated in 1.0 and will be removed in 1.2. Please use get_feature_names_out instead.\n",
      "  warnings.warn(msg, category=FutureWarning)\n",
      "/Users/fafnir/opt/anaconda3/lib/python3.9/site-packages/sklearn/utils/deprecation.py:87: FutureWarning: Function get_feature_names is deprecated; get_feature_names is deprecated in 1.0 and will be removed in 1.2. Please use get_feature_names_out instead.\n",
      "  warnings.warn(msg, category=FutureWarning)\n",
      "/Users/fafnir/opt/anaconda3/lib/python3.9/site-packages/sklearn/utils/deprecation.py:87: FutureWarning: Function get_feature_names is deprecated; get_feature_names is deprecated in 1.0 and will be removed in 1.2. Please use get_feature_names_out instead.\n",
      "  warnings.warn(msg, category=FutureWarning)\n",
      "/Users/fafnir/opt/anaconda3/lib/python3.9/site-packages/sklearn/utils/deprecation.py:87: FutureWarning: Function get_feature_names is deprecated; get_feature_names is deprecated in 1.0 and will be removed in 1.2. Please use get_feature_names_out instead.\n",
      "  warnings.warn(msg, category=FutureWarning)\n",
      "/Users/fafnir/opt/anaconda3/lib/python3.9/site-packages/sklearn/utils/deprecation.py:87: FutureWarning: Function get_feature_names is deprecated; get_feature_names is deprecated in 1.0 and will be removed in 1.2. Please use get_feature_names_out instead.\n",
      "  warnings.warn(msg, category=FutureWarning)\n",
      "/Users/fafnir/opt/anaconda3/lib/python3.9/site-packages/sklearn/utils/deprecation.py:87: FutureWarning: Function get_feature_names is deprecated; get_feature_names is deprecated in 1.0 and will be removed in 1.2. Please use get_feature_names_out instead.\n",
      "  warnings.warn(msg, category=FutureWarning)\n",
      "/Users/fafnir/opt/anaconda3/lib/python3.9/site-packages/sklearn/utils/deprecation.py:87: FutureWarning: Function get_feature_names is deprecated; get_feature_names is deprecated in 1.0 and will be removed in 1.2. Please use get_feature_names_out instead.\n",
      "  warnings.warn(msg, category=FutureWarning)\n"
     ]
    },
    {
     "data": {
      "text/html": [
       "<div>\n",
       "<style scoped>\n",
       "    .dataframe tbody tr th:only-of-type {\n",
       "        vertical-align: middle;\n",
       "    }\n",
       "\n",
       "    .dataframe tbody tr th {\n",
       "        vertical-align: top;\n",
       "    }\n",
       "\n",
       "    .dataframe thead th {\n",
       "        text-align: right;\n",
       "    }\n",
       "</style>\n",
       "<table border=\"1\" class=\"dataframe\">\n",
       "  <thead>\n",
       "    <tr style=\"text-align: right;\">\n",
       "      <th></th>\n",
       "      <th>term</th>\n",
       "      <th>score</th>\n",
       "      <th>dates</th>\n",
       "    </tr>\n",
       "  </thead>\n",
       "  <tbody>\n",
       "    <tr>\n",
       "      <th>0</th>\n",
       "      <td>utorepas</td>\n",
       "      <td>0.750031</td>\n",
       "      <td>1987-1988</td>\n",
       "    </tr>\n",
       "    <tr>\n",
       "      <th>0</th>\n",
       "      <td>http</td>\n",
       "      <td>0.600290</td>\n",
       "      <td>1996-1997</td>\n",
       "    </tr>\n",
       "    <tr>\n",
       "      <th>0</th>\n",
       "      <td>http</td>\n",
       "      <td>0.573855</td>\n",
       "      <td>1995-1996</td>\n",
       "    </tr>\n",
       "    <tr>\n",
       "      <th>1</th>\n",
       "      <td>www</td>\n",
       "      <td>0.509069</td>\n",
       "      <td>1995-1996</td>\n",
       "    </tr>\n",
       "    <tr>\n",
       "      <th>1</th>\n",
       "      <td>1997</td>\n",
       "      <td>0.488162</td>\n",
       "      <td>1996-1997</td>\n",
       "    </tr>\n",
       "    <tr>\n",
       "      <th>2</th>\n",
       "      <td>www</td>\n",
       "      <td>0.451835</td>\n",
       "      <td>1996-1997</td>\n",
       "    </tr>\n",
       "    <tr>\n",
       "      <th>0</th>\n",
       "      <td>gopher</td>\n",
       "      <td>0.390306</td>\n",
       "      <td>1993-1994</td>\n",
       "    </tr>\n",
       "    <tr>\n",
       "      <th>2</th>\n",
       "      <td>1996</td>\n",
       "      <td>0.386933</td>\n",
       "      <td>1995-1996</td>\n",
       "    </tr>\n",
       "    <tr>\n",
       "      <th>0</th>\n",
       "      <td>www</td>\n",
       "      <td>0.371210</td>\n",
       "      <td>1994-1995</td>\n",
       "    </tr>\n",
       "    <tr>\n",
       "      <th>3</th>\n",
       "      <td>html</td>\n",
       "      <td>0.362353</td>\n",
       "      <td>1995-1996</td>\n",
       "    </tr>\n",
       "  </tbody>\n",
       "</table>\n",
       "</div>"
      ],
      "text/plain": [
       "       term     score      dates\n",
       "0  utorepas  0.750031  1987-1988\n",
       "0      http  0.600290  1996-1997\n",
       "0      http  0.573855  1995-1996\n",
       "1       www  0.509069  1995-1996\n",
       "1      1997  0.488162  1996-1997\n",
       "2       www  0.451835  1996-1997\n",
       "0    gopher  0.390306  1993-1994\n",
       "2      1996  0.386933  1995-1996\n",
       "0       www  0.371210  1994-1995\n",
       "3      html  0.362353  1995-1996"
      ]
     },
     "execution_count": 5,
     "metadata": {},
     "output_type": "execute_result"
    }
   ],
   "source": [
    "def stem_words(row):\n",
    "    stemmed_words = ''\n",
    "    for token in row.text.split(' '):\n",
    "        stemmed_words += porter.stem(token) + ' '\n",
    "    return stemmed_words\n",
    "\n",
    "humanist_vols['year_start'] = humanist_vols['dates'].str.split('-').str[0]\n",
    "humanist_vols['year_end'] = humanist_vols['dates'].str.split('-').str[1]\n",
    "humanist_vols['volume_size'] = humanist_vols['text'].str.count('\\n')\n",
    "humanist_vols = humanist_vols.iloc[:10, :]\n",
    "humanist_vols\n",
    "\n",
    "humanist_vols['stemmed_text'] = humanist_vols.apply(stem_words, axis=1)\n",
    "\n",
    "documents = humanist_vols.text.tolist()\n",
    "vectorizer = TfidfVectorizer(max_df=.7, min_df=1, stop_words=stop_words)\n",
    "\n",
    "transformed_documents = vectorizer.fit_transform(documents)\n",
    "transformed_documents_as_array = transformed_documents.toarray()\n",
    "dates = humanist_vols.dates.tolist()\n",
    "tfidf_results = []\n",
    "for counter, doc in enumerate(transformed_documents_as_array):\n",
    "    # construct a dataframe\n",
    "    tf_idf_tuples = list(zip(vectorizer.get_feature_names(), doc))\n",
    "    one_doc_as_df = pd.DataFrame.from_records(tf_idf_tuples, columns=[\n",
    "                                              'term', 'score']).sort_values(by='score', ascending=False).reset_index(drop=True)\n",
    "    one_doc_as_df['dates'] = dates[counter]\n",
    "    tfidf_results.append(one_doc_as_df)\n",
    "\n",
    "tfidf_df = pd.concat(tfidf_results)\n",
    "tfidf_df = tfidf_df.sort_values(by=['score'], ascending=False)\n",
    "tfidf_df = tfidf_df[(tfidf_df['term'] != '2002') & (tfidf_df['term'] != '2004') & (\n",
    "    tfidf_df['term'] != '2006') & (tfidf_df['term'] != '2007') & (tfidf_df['term'] != '2008')]\n",
    "tfidf_df.head(10)"
   ]
  },
  {
   "cell_type": "code",
   "execution_count": 6,
   "metadata": {},
   "outputs": [],
   "source": [
    "a = tfidf_df[0:40].term.unique().tolist()\n",
    "a_10 = a[:10]"
   ]
  },
  {
   "cell_type": "code",
   "execution_count": 7,
   "metadata": {},
   "outputs": [
    {
     "data": {
      "text/plain": [
       "['utorepas',\n",
       " 'http',\n",
       " 'www',\n",
       " '1997',\n",
       " 'gopher',\n",
       " '1996',\n",
       " 'html',\n",
       " 'saddam',\n",
       " 'uottawa',\n",
       " 'astra']"
      ]
     },
     "execution_count": 7,
     "metadata": {},
     "output_type": "execute_result"
    }
   ],
   "source": [
    "a_10"
   ]
  },
  {
   "cell_type": "code",
   "execution_count": 8,
   "metadata": {},
   "outputs": [],
   "source": [
    "top_term = tfidf_df[tfidf_df.term.isin(a_10)]"
   ]
  },
  {
   "cell_type": "code",
   "execution_count": 9,
   "metadata": {},
   "outputs": [
    {
     "data": {
      "text/html": [
       "\n",
       "<div id=\"altair-viz-874cc467132746b8af4f4312e68c9e9f\"></div>\n",
       "<script type=\"text/javascript\">\n",
       "  (function(spec, embedOpt){\n",
       "    let outputDiv = document.currentScript.previousElementSibling;\n",
       "    if (outputDiv.id !== \"altair-viz-874cc467132746b8af4f4312e68c9e9f\") {\n",
       "      outputDiv = document.getElementById(\"altair-viz-874cc467132746b8af4f4312e68c9e9f\");\n",
       "    }\n",
       "    const paths = {\n",
       "      \"vega\": \"https://cdn.jsdelivr.net/npm//vega@5?noext\",\n",
       "      \"vega-lib\": \"https://cdn.jsdelivr.net/npm//vega-lib?noext\",\n",
       "      \"vega-lite\": \"https://cdn.jsdelivr.net/npm//vega-lite@4.8.1?noext\",\n",
       "      \"vega-embed\": \"https://cdn.jsdelivr.net/npm//vega-embed@6?noext\",\n",
       "    };\n",
       "\n",
       "    function loadScript(lib) {\n",
       "      return new Promise(function(resolve, reject) {\n",
       "        var s = document.createElement('script');\n",
       "        s.src = paths[lib];\n",
       "        s.async = true;\n",
       "        s.onload = () => resolve(paths[lib]);\n",
       "        s.onerror = () => reject(`Error loading script: ${paths[lib]}`);\n",
       "        document.getElementsByTagName(\"head\")[0].appendChild(s);\n",
       "      });\n",
       "    }\n",
       "\n",
       "    function showError(err) {\n",
       "      outputDiv.innerHTML = `<div class=\"error\" style=\"color:red;\">${err}</div>`;\n",
       "      throw err;\n",
       "    }\n",
       "\n",
       "    function displayChart(vegaEmbed) {\n",
       "      vegaEmbed(outputDiv, spec, embedOpt)\n",
       "        .catch(err => showError(`Javascript Error: ${err.message}<br>This usually means there's a typo in your chart specification. See the javascript console for the full traceback.`));\n",
       "    }\n",
       "\n",
       "    if(typeof define === \"function\" && define.amd) {\n",
       "      requirejs.config({paths});\n",
       "      require([\"vega-embed\"], displayChart, err => showError(`Error loading script: ${err.message}`));\n",
       "    } else if (typeof vegaEmbed === \"function\") {\n",
       "      displayChart(vegaEmbed);\n",
       "    } else {\n",
       "      loadScript(\"vega\")\n",
       "        .then(() => loadScript(\"vega-lite\"))\n",
       "        .then(() => loadScript(\"vega-embed\"))\n",
       "        .catch(showError)\n",
       "        .then(() => displayChart(vegaEmbed));\n",
       "    }\n",
       "  })({\"config\": {\"view\": {\"continuousWidth\": 400, \"continuousHeight\": 300}}, \"data\": {\"name\": \"data-72791f032b3477f9a3632e47f721198c\"}, \"mark\": \"bar\", \"encoding\": {\"color\": {\"type\": \"nominal\", \"field\": \"term\", \"scale\": {\"scheme\": \"accent\"}, \"sort\": {}}, \"x\": {\"type\": \"nominal\", \"field\": \"term\"}, \"y\": {\"type\": \"quantitative\", \"field\": \"score\"}}, \"$schema\": \"https://vega.github.io/schema/vega-lite/v4.8.1.json\", \"datasets\": {\"data-72791f032b3477f9a3632e47f721198c\": [{\"term\": \"utorepas\", \"score\": 0.750031493315909, \"dates\": \"1987-1988\"}, {\"term\": \"http\", \"score\": 0.600289832192915, \"dates\": \"1996-1997\"}, {\"term\": \"http\", \"score\": 0.5738547105488931, \"dates\": \"1995-1996\"}, {\"term\": \"www\", \"score\": 0.5090691631794346, \"dates\": \"1995-1996\"}, {\"term\": \"1997\", \"score\": 0.48816184723620853, \"dates\": \"1996-1997\"}, {\"term\": \"www\", \"score\": 0.4518350510877713, \"dates\": \"1996-1997\"}, {\"term\": \"gopher\", \"score\": 0.3903058493465121, \"dates\": \"1993-1994\"}, {\"term\": \"1996\", \"score\": 0.38693290609957165, \"dates\": \"1995-1996\"}, {\"term\": \"www\", \"score\": 0.37121012657630165, \"dates\": \"1994-1995\"}, {\"term\": \"html\", \"score\": 0.3623527034089216, \"dates\": \"1995-1996\"}, {\"term\": \"saddam\", \"score\": 0.3054197605916802, \"dates\": \"1990-1991\"}, {\"term\": \"http\", \"score\": 0.28782891189958204, \"dates\": \"1994-1995\"}, {\"term\": \"gopher\", \"score\": 0.2863874324063719, \"dates\": \"1994-1995\"}, {\"term\": \"uottawa\", \"score\": 0.2557455644054866, \"dates\": \"1992-1993\"}, {\"term\": \"astra\", \"score\": 0.24744331887780707, \"dates\": \"1988-1989\"}, {\"term\": \"html\", \"score\": 0.22627332920797236, \"dates\": \"1996-1997\"}, {\"term\": \"html\", \"score\": 0.21641271571397144, \"dates\": \"1994-1995\"}, {\"term\": \"uottawa\", \"score\": 0.2012030100584962, \"dates\": \"1991-1992\"}, {\"term\": \"1996\", \"score\": 0.19330227920710166, \"dates\": \"1996-1997\"}, {\"term\": \"utorepas\", \"score\": 0.13080376297419175, \"dates\": \"1988-1989\"}, {\"term\": \"www\", \"score\": 0.10586797913445178, \"dates\": \"1993-1994\"}, {\"term\": \"1996\", \"score\": 0.07817450827783097, \"dates\": \"1994-1995\"}, {\"term\": \"http\", \"score\": 0.06078478934635973, \"dates\": \"1993-1994\"}, {\"term\": \"gopher\", \"score\": 0.05780550428343191, \"dates\": \"1992-1993\"}, {\"term\": \"html\", \"score\": 0.05710086271930763, \"dates\": \"1993-1994\"}, {\"term\": \"utorepas\", \"score\": 0.05093390654477037, \"dates\": \"1989-1990\"}, {\"term\": \"gopher\", \"score\": 0.04482161639085748, \"dates\": \"1995-1996\"}, {\"term\": \"uottawa\", \"score\": 0.025422220072378182, \"dates\": \"1993-1994\"}, {\"term\": \"uottawa\", \"score\": 0.021270220368181183, \"dates\": \"1990-1991\"}, {\"term\": \"1997\", \"score\": 0.010891444764284238, \"dates\": \"1995-1996\"}, {\"term\": \"uottawa\", \"score\": 0.01010064594723549, \"dates\": \"1995-1996\"}, {\"term\": \"gopher\", \"score\": 0.009725468494998732, \"dates\": \"1996-1997\"}, {\"term\": \"utorepas\", \"score\": 0.008852300734790163, \"dates\": \"1990-1991\"}, {\"term\": \"uottawa\", \"score\": 0.0052709343387675805, \"dates\": \"1994-1995\"}, {\"term\": \"1997\", \"score\": 0.004786194384356998, \"dates\": \"1994-1995\"}, {\"term\": \"1997\", \"score\": 0.004771767070375804, \"dates\": \"1992-1993\"}, {\"term\": \"1996\", \"score\": 0.0027157968169923166, \"dates\": \"1993-1994\"}, {\"term\": \"gopher\", \"score\": 0.002441549308931153, \"dates\": \"1988-1989\"}, {\"term\": \"1996\", \"score\": 0.0024254241211795415, \"dates\": \"1989-1990\"}, {\"term\": \"1997\", \"score\": 0.0024254241211795415, \"dates\": \"1989-1990\"}, {\"term\": \"astra\", \"score\": 0.0022758136420979887, \"dates\": \"1991-1992\"}, {\"term\": \"www\", \"score\": 0.0019376500813384446, \"dates\": \"1992-1993\"}, {\"term\": \"1997\", \"score\": 0.0016095092245073024, \"dates\": \"1990-1991\"}, {\"term\": \"1996\", \"score\": 0.0016095092245073024, \"dates\": \"1990-1991\"}, {\"term\": \"utorepas\", \"score\": 0.0015905890234586013, \"dates\": \"1992-1993\"}, {\"term\": \"utorepas\", \"score\": 0.0013049959524184277, \"dates\": \"1991-1992\"}, {\"term\": \"1997\", \"score\": 0.0013049959524184277, \"dates\": \"1991-1992\"}, {\"term\": \"1996\", \"score\": 0.0013049959524184277, \"dates\": \"1991-1992\"}, {\"term\": \"utorepas\", \"score\": 0.0005732339349623283, \"dates\": \"1995-1996\"}, {\"term\": \"utorepas\", \"score\": 0.0, \"dates\": \"1994-1995\"}, {\"term\": \"saddam\", \"score\": 0.0, \"dates\": \"1994-1995\"}, {\"term\": \"1996\", \"score\": 0.0, \"dates\": \"1992-1993\"}, {\"term\": \"html\", \"score\": 0.0, \"dates\": \"1992-1993\"}, {\"term\": \"http\", \"score\": 0.0, \"dates\": \"1992-1993\"}, {\"term\": \"astra\", \"score\": 0.0, \"dates\": \"1993-1994\"}, {\"term\": \"1997\", \"score\": 0.0, \"dates\": \"1993-1994\"}, {\"term\": \"utorepas\", \"score\": 0.0, \"dates\": \"1993-1994\"}, {\"term\": \"saddam\", \"score\": 0.0, \"dates\": \"1993-1994\"}, {\"term\": \"utorepas\", \"score\": 0.0, \"dates\": \"1996-1997\"}, {\"term\": \"uottawa\", \"score\": 0.0, \"dates\": \"1996-1997\"}, {\"term\": \"astra\", \"score\": 0.0, \"dates\": \"1996-1997\"}, {\"term\": \"saddam\", \"score\": 0.0, \"dates\": \"1996-1997\"}, {\"term\": \"astra\", \"score\": 0.0, \"dates\": \"1994-1995\"}, {\"term\": \"saddam\", \"score\": 0.0, \"dates\": \"1995-1996\"}, {\"term\": \"astra\", \"score\": 0.0, \"dates\": \"1995-1996\"}, {\"term\": \"astra\", \"score\": 0.0, \"dates\": \"1987-1988\"}, {\"term\": \"www\", \"score\": 0.0, \"dates\": \"1989-1990\"}, {\"term\": \"uottawa\", \"score\": 0.0, \"dates\": \"1989-1990\"}, {\"term\": \"html\", \"score\": 0.0, \"dates\": \"1988-1989\"}, {\"term\": \"http\", \"score\": 0.0, \"dates\": \"1988-1989\"}, {\"term\": \"html\", \"score\": 0.0, \"dates\": \"1989-1990\"}, {\"term\": \"http\", \"score\": 0.0, \"dates\": \"1989-1990\"}, {\"term\": \"gopher\", \"score\": 0.0, \"dates\": \"1989-1990\"}, {\"term\": \"astra\", \"score\": 0.0, \"dates\": \"1989-1990\"}, {\"term\": \"saddam\", \"score\": 0.0, \"dates\": \"1989-1990\"}, {\"term\": \"gopher\", \"score\": 0.0, \"dates\": \"1987-1988\"}, {\"term\": \"1997\", \"score\": 0.0, \"dates\": \"1987-1988\"}, {\"term\": \"1996\", \"score\": 0.0, \"dates\": \"1987-1988\"}, {\"term\": \"http\", \"score\": 0.0, \"dates\": \"1987-1988\"}, {\"term\": \"html\", \"score\": 0.0, \"dates\": \"1987-1988\"}, {\"term\": \"1996\", \"score\": 0.0, \"dates\": \"1988-1989\"}, {\"term\": \"1997\", \"score\": 0.0, \"dates\": \"1988-1989\"}, {\"term\": \"www\", \"score\": 0.0, \"dates\": \"1988-1989\"}, {\"term\": \"uottawa\", \"score\": 0.0, \"dates\": \"1988-1989\"}, {\"term\": \"saddam\", \"score\": 0.0, \"dates\": \"1988-1989\"}, {\"term\": \"html\", \"score\": 0.0, \"dates\": \"1991-1992\"}, {\"term\": \"http\", \"score\": 0.0, \"dates\": \"1991-1992\"}, {\"term\": \"gopher\", \"score\": 0.0, \"dates\": \"1991-1992\"}, {\"term\": \"saddam\", \"score\": 0.0, \"dates\": \"1991-1992\"}, {\"term\": \"saddam\", \"score\": 0.0, \"dates\": \"1992-1993\"}, {\"term\": \"astra\", \"score\": 0.0, \"dates\": \"1992-1993\"}, {\"term\": \"astra\", \"score\": 0.0, \"dates\": \"1990-1991\"}, {\"term\": \"www\", \"score\": 0.0, \"dates\": \"1990-1991\"}, {\"term\": \"saddam\", \"score\": 0.0, \"dates\": \"1987-1988\"}, {\"term\": \"www\", \"score\": 0.0, \"dates\": \"1991-1992\"}, {\"term\": \"gopher\", \"score\": 0.0, \"dates\": \"1990-1991\"}, {\"term\": \"html\", \"score\": 0.0, \"dates\": \"1990-1991\"}, {\"term\": \"http\", \"score\": 0.0, \"dates\": \"1990-1991\"}, {\"term\": \"www\", \"score\": 0.0, \"dates\": \"1987-1988\"}, {\"term\": \"uottawa\", \"score\": 0.0, \"dates\": \"1987-1988\"}]}}, {\"mode\": \"vega-lite\"});\n",
       "</script>"
      ],
      "text/plain": [
       "alt.Chart(...)"
      ]
     },
     "execution_count": 9,
     "metadata": {},
     "output_type": "execute_result"
    }
   ],
   "source": [
    "alt.Chart(top_term).mark_bar().encode(\n",
    "    x='term',\n",
    "    y='score',\n",
    "    color=alt.Color('term', scale=alt.Scale(scheme='accent'), sort=alt.Sort()),\n",
    ")\n"
   ]
  },
  {
   "cell_type": "code",
   "execution_count": 10,
   "metadata": {},
   "outputs": [
    {
     "data": {
      "text/html": [
       "\n",
       "<div id=\"altair-viz-02f07419a98145f89481ac8e9e11d66b\"></div>\n",
       "<script type=\"text/javascript\">\n",
       "  (function(spec, embedOpt){\n",
       "    let outputDiv = document.currentScript.previousElementSibling;\n",
       "    if (outputDiv.id !== \"altair-viz-02f07419a98145f89481ac8e9e11d66b\") {\n",
       "      outputDiv = document.getElementById(\"altair-viz-02f07419a98145f89481ac8e9e11d66b\");\n",
       "    }\n",
       "    const paths = {\n",
       "      \"vega\": \"https://cdn.jsdelivr.net/npm//vega@5?noext\",\n",
       "      \"vega-lib\": \"https://cdn.jsdelivr.net/npm//vega-lib?noext\",\n",
       "      \"vega-lite\": \"https://cdn.jsdelivr.net/npm//vega-lite@4.8.1?noext\",\n",
       "      \"vega-embed\": \"https://cdn.jsdelivr.net/npm//vega-embed@6?noext\",\n",
       "    };\n",
       "\n",
       "    function loadScript(lib) {\n",
       "      return new Promise(function(resolve, reject) {\n",
       "        var s = document.createElement('script');\n",
       "        s.src = paths[lib];\n",
       "        s.async = true;\n",
       "        s.onload = () => resolve(paths[lib]);\n",
       "        s.onerror = () => reject(`Error loading script: ${paths[lib]}`);\n",
       "        document.getElementsByTagName(\"head\")[0].appendChild(s);\n",
       "      });\n",
       "    }\n",
       "\n",
       "    function showError(err) {\n",
       "      outputDiv.innerHTML = `<div class=\"error\" style=\"color:red;\">${err}</div>`;\n",
       "      throw err;\n",
       "    }\n",
       "\n",
       "    function displayChart(vegaEmbed) {\n",
       "      vegaEmbed(outputDiv, spec, embedOpt)\n",
       "        .catch(err => showError(`Javascript Error: ${err.message}<br>This usually means there's a typo in your chart specification. See the javascript console for the full traceback.`));\n",
       "    }\n",
       "\n",
       "    if(typeof define === \"function\" && define.amd) {\n",
       "      requirejs.config({paths});\n",
       "      require([\"vega-embed\"], displayChart, err => showError(`Error loading script: ${err.message}`));\n",
       "    } else if (typeof vegaEmbed === \"function\") {\n",
       "      displayChart(vegaEmbed);\n",
       "    } else {\n",
       "      loadScript(\"vega\")\n",
       "        .then(() => loadScript(\"vega-lite\"))\n",
       "        .then(() => loadScript(\"vega-embed\"))\n",
       "        .catch(showError)\n",
       "        .then(() => displayChart(vegaEmbed));\n",
       "    }\n",
       "  })({\"config\": {\"view\": {\"continuousWidth\": 400, \"continuousHeight\": 300}}, \"data\": {\"name\": \"data-72791f032b3477f9a3632e47f721198c\"}, \"mark\": \"bar\", \"encoding\": {\"color\": {\"type\": \"nominal\", \"field\": \"term\", \"scale\": {\"scheme\": \"accent\"}, \"sort\": {}}, \"x\": {\"type\": \"nominal\", \"field\": \"dates\"}, \"y\": {\"type\": \"quantitative\", \"field\": \"score\"}}, \"$schema\": \"https://vega.github.io/schema/vega-lite/v4.8.1.json\", \"datasets\": {\"data-72791f032b3477f9a3632e47f721198c\": [{\"term\": \"utorepas\", \"score\": 0.750031493315909, \"dates\": \"1987-1988\"}, {\"term\": \"http\", \"score\": 0.600289832192915, \"dates\": \"1996-1997\"}, {\"term\": \"http\", \"score\": 0.5738547105488931, \"dates\": \"1995-1996\"}, {\"term\": \"www\", \"score\": 0.5090691631794346, \"dates\": \"1995-1996\"}, {\"term\": \"1997\", \"score\": 0.48816184723620853, \"dates\": \"1996-1997\"}, {\"term\": \"www\", \"score\": 0.4518350510877713, \"dates\": \"1996-1997\"}, {\"term\": \"gopher\", \"score\": 0.3903058493465121, \"dates\": \"1993-1994\"}, {\"term\": \"1996\", \"score\": 0.38693290609957165, \"dates\": \"1995-1996\"}, {\"term\": \"www\", \"score\": 0.37121012657630165, \"dates\": \"1994-1995\"}, {\"term\": \"html\", \"score\": 0.3623527034089216, \"dates\": \"1995-1996\"}, {\"term\": \"saddam\", \"score\": 0.3054197605916802, \"dates\": \"1990-1991\"}, {\"term\": \"http\", \"score\": 0.28782891189958204, \"dates\": \"1994-1995\"}, {\"term\": \"gopher\", \"score\": 0.2863874324063719, \"dates\": \"1994-1995\"}, {\"term\": \"uottawa\", \"score\": 0.2557455644054866, \"dates\": \"1992-1993\"}, {\"term\": \"astra\", \"score\": 0.24744331887780707, \"dates\": \"1988-1989\"}, {\"term\": \"html\", \"score\": 0.22627332920797236, \"dates\": \"1996-1997\"}, {\"term\": \"html\", \"score\": 0.21641271571397144, \"dates\": \"1994-1995\"}, {\"term\": \"uottawa\", \"score\": 0.2012030100584962, \"dates\": \"1991-1992\"}, {\"term\": \"1996\", \"score\": 0.19330227920710166, \"dates\": \"1996-1997\"}, {\"term\": \"utorepas\", \"score\": 0.13080376297419175, \"dates\": \"1988-1989\"}, {\"term\": \"www\", \"score\": 0.10586797913445178, \"dates\": \"1993-1994\"}, {\"term\": \"1996\", \"score\": 0.07817450827783097, \"dates\": \"1994-1995\"}, {\"term\": \"http\", \"score\": 0.06078478934635973, \"dates\": \"1993-1994\"}, {\"term\": \"gopher\", \"score\": 0.05780550428343191, \"dates\": \"1992-1993\"}, {\"term\": \"html\", \"score\": 0.05710086271930763, \"dates\": \"1993-1994\"}, {\"term\": \"utorepas\", \"score\": 0.05093390654477037, \"dates\": \"1989-1990\"}, {\"term\": \"gopher\", \"score\": 0.04482161639085748, \"dates\": \"1995-1996\"}, {\"term\": \"uottawa\", \"score\": 0.025422220072378182, \"dates\": \"1993-1994\"}, {\"term\": \"uottawa\", \"score\": 0.021270220368181183, \"dates\": \"1990-1991\"}, {\"term\": \"1997\", \"score\": 0.010891444764284238, \"dates\": \"1995-1996\"}, {\"term\": \"uottawa\", \"score\": 0.01010064594723549, \"dates\": \"1995-1996\"}, {\"term\": \"gopher\", \"score\": 0.009725468494998732, \"dates\": \"1996-1997\"}, {\"term\": \"utorepas\", \"score\": 0.008852300734790163, \"dates\": \"1990-1991\"}, {\"term\": \"uottawa\", \"score\": 0.0052709343387675805, \"dates\": \"1994-1995\"}, {\"term\": \"1997\", \"score\": 0.004786194384356998, \"dates\": \"1994-1995\"}, {\"term\": \"1997\", \"score\": 0.004771767070375804, \"dates\": \"1992-1993\"}, {\"term\": \"1996\", \"score\": 0.0027157968169923166, \"dates\": \"1993-1994\"}, {\"term\": \"gopher\", \"score\": 0.002441549308931153, \"dates\": \"1988-1989\"}, {\"term\": \"1996\", \"score\": 0.0024254241211795415, \"dates\": \"1989-1990\"}, {\"term\": \"1997\", \"score\": 0.0024254241211795415, \"dates\": \"1989-1990\"}, {\"term\": \"astra\", \"score\": 0.0022758136420979887, \"dates\": \"1991-1992\"}, {\"term\": \"www\", \"score\": 0.0019376500813384446, \"dates\": \"1992-1993\"}, {\"term\": \"1997\", \"score\": 0.0016095092245073024, \"dates\": \"1990-1991\"}, {\"term\": \"1996\", \"score\": 0.0016095092245073024, \"dates\": \"1990-1991\"}, {\"term\": \"utorepas\", \"score\": 0.0015905890234586013, \"dates\": \"1992-1993\"}, {\"term\": \"utorepas\", \"score\": 0.0013049959524184277, \"dates\": \"1991-1992\"}, {\"term\": \"1997\", \"score\": 0.0013049959524184277, \"dates\": \"1991-1992\"}, {\"term\": \"1996\", \"score\": 0.0013049959524184277, \"dates\": \"1991-1992\"}, {\"term\": \"utorepas\", \"score\": 0.0005732339349623283, \"dates\": \"1995-1996\"}, {\"term\": \"utorepas\", \"score\": 0.0, \"dates\": \"1994-1995\"}, {\"term\": \"saddam\", \"score\": 0.0, \"dates\": \"1994-1995\"}, {\"term\": \"1996\", \"score\": 0.0, \"dates\": \"1992-1993\"}, {\"term\": \"html\", \"score\": 0.0, \"dates\": \"1992-1993\"}, {\"term\": \"http\", \"score\": 0.0, \"dates\": \"1992-1993\"}, {\"term\": \"astra\", \"score\": 0.0, \"dates\": \"1993-1994\"}, {\"term\": \"1997\", \"score\": 0.0, \"dates\": \"1993-1994\"}, {\"term\": \"utorepas\", \"score\": 0.0, \"dates\": \"1993-1994\"}, {\"term\": \"saddam\", \"score\": 0.0, \"dates\": \"1993-1994\"}, {\"term\": \"utorepas\", \"score\": 0.0, \"dates\": \"1996-1997\"}, {\"term\": \"uottawa\", \"score\": 0.0, \"dates\": \"1996-1997\"}, {\"term\": \"astra\", \"score\": 0.0, \"dates\": \"1996-1997\"}, {\"term\": \"saddam\", \"score\": 0.0, \"dates\": \"1996-1997\"}, {\"term\": \"astra\", \"score\": 0.0, \"dates\": \"1994-1995\"}, {\"term\": \"saddam\", \"score\": 0.0, \"dates\": \"1995-1996\"}, {\"term\": \"astra\", \"score\": 0.0, \"dates\": \"1995-1996\"}, {\"term\": \"astra\", \"score\": 0.0, \"dates\": \"1987-1988\"}, {\"term\": \"www\", \"score\": 0.0, \"dates\": \"1989-1990\"}, {\"term\": \"uottawa\", \"score\": 0.0, \"dates\": \"1989-1990\"}, {\"term\": \"html\", \"score\": 0.0, \"dates\": \"1988-1989\"}, {\"term\": \"http\", \"score\": 0.0, \"dates\": \"1988-1989\"}, {\"term\": \"html\", \"score\": 0.0, \"dates\": \"1989-1990\"}, {\"term\": \"http\", \"score\": 0.0, \"dates\": \"1989-1990\"}, {\"term\": \"gopher\", \"score\": 0.0, \"dates\": \"1989-1990\"}, {\"term\": \"astra\", \"score\": 0.0, \"dates\": \"1989-1990\"}, {\"term\": \"saddam\", \"score\": 0.0, \"dates\": \"1989-1990\"}, {\"term\": \"gopher\", \"score\": 0.0, \"dates\": \"1987-1988\"}, {\"term\": \"1997\", \"score\": 0.0, \"dates\": \"1987-1988\"}, {\"term\": \"1996\", \"score\": 0.0, \"dates\": \"1987-1988\"}, {\"term\": \"http\", \"score\": 0.0, \"dates\": \"1987-1988\"}, {\"term\": \"html\", \"score\": 0.0, \"dates\": \"1987-1988\"}, {\"term\": \"1996\", \"score\": 0.0, \"dates\": \"1988-1989\"}, {\"term\": \"1997\", \"score\": 0.0, \"dates\": \"1988-1989\"}, {\"term\": \"www\", \"score\": 0.0, \"dates\": \"1988-1989\"}, {\"term\": \"uottawa\", \"score\": 0.0, \"dates\": \"1988-1989\"}, {\"term\": \"saddam\", \"score\": 0.0, \"dates\": \"1988-1989\"}, {\"term\": \"html\", \"score\": 0.0, \"dates\": \"1991-1992\"}, {\"term\": \"http\", \"score\": 0.0, \"dates\": \"1991-1992\"}, {\"term\": \"gopher\", \"score\": 0.0, \"dates\": \"1991-1992\"}, {\"term\": \"saddam\", \"score\": 0.0, \"dates\": \"1991-1992\"}, {\"term\": \"saddam\", \"score\": 0.0, \"dates\": \"1992-1993\"}, {\"term\": \"astra\", \"score\": 0.0, \"dates\": \"1992-1993\"}, {\"term\": \"astra\", \"score\": 0.0, \"dates\": \"1990-1991\"}, {\"term\": \"www\", \"score\": 0.0, \"dates\": \"1990-1991\"}, {\"term\": \"saddam\", \"score\": 0.0, \"dates\": \"1987-1988\"}, {\"term\": \"www\", \"score\": 0.0, \"dates\": \"1991-1992\"}, {\"term\": \"gopher\", \"score\": 0.0, \"dates\": \"1990-1991\"}, {\"term\": \"html\", \"score\": 0.0, \"dates\": \"1990-1991\"}, {\"term\": \"http\", \"score\": 0.0, \"dates\": \"1990-1991\"}, {\"term\": \"www\", \"score\": 0.0, \"dates\": \"1987-1988\"}, {\"term\": \"uottawa\", \"score\": 0.0, \"dates\": \"1987-1988\"}]}}, {\"mode\": \"vega-lite\"});\n",
       "</script>"
      ],
      "text/plain": [
       "alt.Chart(...)"
      ]
     },
     "execution_count": 10,
     "metadata": {},
     "output_type": "execute_result"
    }
   ],
   "source": [
    "alt.Chart(top_term).mark_bar().encode(\n",
    "    x='dates',\n",
    "    y='score',\n",
    "    color=alt.Color('term', scale=alt.Scale(scheme='accent'), sort=alt.Sort()),\n",
    ")\n"
   ]
  }
 ],
 "metadata": {
  "interpreter": {
   "hash": "17537ea384b188adc08b2b36c821a0500151eaa67cf62b78c4bd2d22bacbf064"
  },
  "kernelspec": {
   "display_name": "Python 3.9.7 ('base')",
   "language": "python",
   "name": "python3"
  },
  "language_info": {
   "codemirror_mode": {
    "name": "ipython",
    "version": 3
   },
   "file_extension": ".py",
   "mimetype": "text/x-python",
   "name": "python",
   "nbconvert_exporter": "python",
   "pygments_lexer": "ipython3",
   "version": "3.9.7"
  },
  "orig_nbformat": 4
 },
 "nbformat": 4,
 "nbformat_minor": 2
}
