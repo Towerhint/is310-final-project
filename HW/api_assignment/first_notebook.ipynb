{
 "cells": [
  {
   "cell_type": "code",
   "execution_count": 43,
   "metadata": {},
   "outputs": [],
   "source": [
    "import requests"
   ]
  },
  {
   "cell_type": "markdown",
   "metadata": {},
   "source": [
    "1. Using the API, try and find the **Lifeline to Berlin** magazine page we explored in class together. \n",
    "- So far we have been using simple searching, but feel free to try more complex requests https://pro.dp.la/developers/requests \n",
    "- Try use wildcards and boolean searches. \n",
    "- What query works the best? Simple search will do the job, but in other circumstances, we may need to use other searching methods.\n",
    "\n",
    "2. Now try to find the item you initially explored when you were first using DPLA.\n",
    "3. Finally try to find an item that has the same date as your birthdate. Post it to the #sharing-relevant-materials channel in the discord."
   ]
  },
  {
   "cell_type": "code",
   "execution_count": 70,
   "metadata": {},
   "outputs": [],
   "source": [
    "api_key = \"74c4fbc809777371970ca172113645\""
   ]
  },
  {
   "cell_type": "code",
   "execution_count": 44,
   "metadata": {},
   "outputs": [],
   "source": [
    "# Trying boolean search for \"Berlin magazine page\"\n",
    "url = 'https://api.dp.la/v2/items?q=lifeline+AND+berlin&api_key='\n",
    "response = requests.get(url + api_key)\n",
    "dpla_data = response.json()"
   ]
  },
  {
   "cell_type": "code",
   "execution_count": 76,
   "metadata": {},
   "outputs": [
    {
     "name": "stdout",
     "output_type": "stream",
     "text": [
      "dict_keys(['count', 'start', 'limit', 'docs', 'facets'])\n",
      "{'id': '085d7190211f6f6d61a14280ace1a29f', '@context': 'http://dp.la/api/items/context', '@id': 'http://dp.la/api/items/085d7190211f6f6d61a14280ace1a29f', 'aggregatedCHO': '#sourceResource', 'dataProvider': 'Duke University Libraries', 'ingestDate': '2022-02-15T18:56:18.496Z', 'ingestType': 'item', 'isShownAt': 'https://idn.duke.edu/ark:/87924/r4rf5t64t', 'object': 'https://repository.duke.edu/iiif/ark:%2F87924%2Fr47h1nb9g/full/!350,350/0/default.jpg', 'rights': 'http://rightsstatements.org/vocab/InC/1.0/', 'originalRecord': {'stringValue': '<record \\nxmlns=\"http://www.openarchives.org/OAI/2.0/\" xmlns:xsi=\"http://www.w3.org/2001/XMLSchema-instance\">\\n  <header>\\n    <identifier>\\n      oai:repox.digitalnc.orgduke_admin_setdc:oai:ddr:daa8a70d-48f4-463d-8392-626ff6f03f0e\\n    </identifier>\\n    <datestamp>2021-12-18</datestamp>\\n    <setSpec>duke_admin_setdc</setSpec>\\n  </header>\\n  <metadata>\\n    <mods \\n    xsi:schemaLocation=\"http://www.loc.gov/mods/v3 http://www.loc.gov/standards/mods/v3/mods-3-4.xsd\" version=\"3.4\" xmlns=\"http://www.loc.gov/mods/v3\" xmlns:dc=\"http://purl.org/dc/elements/1.1/\" xmlns:xsi=\"http://www.w3.org/2001/XMLSchema-instance\" xmlns:oai_dc=\"http://www.openarchives.org/OAI/2.0/oai_dc/\">\\n      <titleInfo>\\n        <title>Lifeline to Berlin</title>\\n      </titleInfo>\\n      <subject>\\n        <geographic>New York (N.Y.)</geographic>\\n      </subject>\\n      <subject>\\n        <geographic>Berlin (Germany)</geographic>\\n      </subject>\\n      <originInfo>\\n        <dateCreated keyDate=\"yes\">1964</dateCreated>\\n      </originInfo>\\n      <note type=\"content\">Departure location(s): New York (N.Y.)</note>\\n      <note type=\"content\">Arrival location(s): Berlin (Germany)</note>\\n      <note type=\"content\">\\n        This item was digitized as part of the &quot;Digitizing the \\'World\\'s Most Experienced Airline\\'&quot; project, supported by a grant from the Council on Library and Information Resources (CLIR). The grant program is made possible by funding from The Andrew W. Mellon Foundation.\\n      </note>\\n      <physicalDescription>\\n        <form>advertisements</form>\\n      </physicalDescription>\\n      <identifier>https://idn.duke.edu/ark:/87924/r4rf5t64t</identifier>\\n      <identifier>\\n        https://repository.duke.edu/iiif/ark:%2F87924%2Fr47h1nb9g/full/!350,350/0/default.jpg\\n      </identifier>\\n      <language>\\n        <languageTerm>eng</languageTerm>\\n      </language>\\n      <accessCondition type=\"use and reproduction\">\\n        http://rightsstatements.org/vocab/InC/1.0/\\n      </accessCondition>\\n      <accessCondition type=\"local rights statements\">\\n        This material is protected by copyright. The Pan Am brand remains under trademark. For additional information, please visit: https://guides.library.duke.edu/panam/digitalcollections.\\n      </accessCondition>\\n      <subject>\\n        <topic>Jet Clipper</topic>\\n      </subject>\\n      <genre>Still Image</genre>\\n      <relatedItem type=\"host\" displayLabel=\"collection\">\\n        <titleInfo>\\n          <title>Pan American World Airways Advertisements</title>\\n        </titleInfo>\\n      </relatedItem>\\n      <note type=\"ownership\">Duke University Libraries</note>\\n      <location>\\n        <url usage=\"primary display\" access=\"object in context\">\\n          https://idn.duke.edu/ark:/87924/r4rf5t64t\\n        </url>\\n      </location>\\n      <location>\\n        <url access=\"preview\">\\n          https://repository.duke.edu/iiif/ark:%2F87924%2Fr47h1nb9g/full/!350,350/0/default.jpg\\n        </url>\\n      </location>\\n</mods>\\n  </metadata>\\n  <about>\\n    <oaiProvenance:provenance \\n    xsi:schemaLocation=\"http://www.openarchives.org/OAI/2.0/provenance http://www.openarchives.org/OAI/2.0/provenance.xsd\" xmlns:oaiProvenance=\"http://www.openarchives.org/OAI/2.0/provenance\" xmlns:xsi=\"http://www.w3.org/2001/XMLSchema-instance\">\\n      <oaiProvenance:originDescription harvestDate=\"2021-12-18\" altered=\"true\">\\n        <oaiProvenance:baseURL>\\n          https://repository.duke.edu/items/oai\\n        </oaiProvenance:baseURL>\\n        <oaiProvenance:identifier>\\n          oai:ddr:daa8a70d-48f4-463d-8392-626ff6f03f0e\\n        </oaiProvenance:identifier>\\n        <oaiProvenance:datestamp>2021-12-18</oaiProvenance:datestamp>\\n        <oaiProvenance:metadataNamespace>\\n          http://www.openarchives.org/OAI/2.0/\\n        </oaiProvenance:metadataNamespace>\\n      </oaiProvenance:originDescription>\\n</oaiProvenance:provenance>\\n  </about>\\n</record>\\n'}, 'provider': {'@id': 'http://dp.la/api/contributor/digitalnc', 'name': 'North Carolina Digital Heritage Center'}, 'sourceResource': {'@id': 'http://dp.la/api/items/085d7190211f6f6d61a14280ace1a29f#SourceResource', 'collection': [{'title': 'Pan American World Airways Advertisements'}], 'date': [{'displayDate': '1964', 'begin': '1964', 'end': '1964'}], 'description': ['Departure location(s): New York (N.Y.)', 'Arrival location(s): Berlin (Germany)', 'This item was digitized as part of the \"Digitizing the \\'World\\'s Most Experienced Airline\\'\" project, supported by a grant from the Council on Library and Information Resources (CLIR). The grant program is made possible by funding from The Andrew W. Mellon Foundation.'], 'format': ['Advertisements'], 'identifier': ['https://idn.duke.edu/ark:/87924/r4rf5t64t', 'https://repository.duke.edu/iiif/ark:%2F87924%2Fr47h1nb9g/full/!350,350/0/default.jpg'], 'language': [{'name': 'English', 'iso639_3': 'English'}], 'relation': ['Pan American World Airways Advertisements'], 'rights': ['This material is protected by copyright. The Pan Am brand remains under trademark. For additional information, please visit: https://guides.library.duke.edu/panam/digitalcollections.'], 'spatial': [{'name': 'New York (N.Y.)'}, {'name': 'Berlin (Germany)'}], 'subject': [{'name': 'Jet Clipper'}], 'title': ['Lifeline to Berlin'], 'type': ['image']}, '@type': 'ore:Aggregation', 'tags': ['aviation', 'aviation_jet_clipper'], 'rightsCategory': 'Permission or Fair Use'}\n"
     ]
    }
   ],
   "source": [
    "print(dpla_data.keys())\n",
    "for item in dpla_data['docs']:\n",
    "    if item['sourceResource']['title'] == ['Lifeline to Berlin']:\n",
    "        print(item)\n",
    "# print('dataProvider', dpla_data['docs'][0]['dataProvider'])\n",
    "# print('isShownAt', dpla_data['docs'][0]['isShownAt'])\n",
    "# print('sourceResource', dpla_data['docs'][0]['sourceResource'])"
   ]
  },
  {
   "cell_type": "code",
   "execution_count": 82,
   "metadata": {},
   "outputs": [],
   "source": [
    "# Using simple search for \"Berlin magazine page\"\n",
    "url = 'https://api.dp.la/v2/items?q=\"lifeline+to+berlin\"&api_key='\n",
    "response = requests.get(url + api_key)\n",
    "dpla_data = response.json()"
   ]
  },
  {
   "cell_type": "code",
   "execution_count": 83,
   "metadata": {},
   "outputs": [
    {
     "name": "stdout",
     "output_type": "stream",
     "text": [
      "['Lifeline to Berlin']\n"
     ]
    }
   ],
   "source": [
    "for item in dpla_data['docs']:\n",
    "    print(item['sourceResource']['title'])"
   ]
  },
  {
   "cell_type": "code",
   "execution_count": null,
   "metadata": {},
   "outputs": [],
   "source": [
    "# Find an item: Chipotle Employees\n",
    "# I will use simple search since I know the exact title of this item"
   ]
  },
  {
   "cell_type": "code",
   "execution_count": 84,
   "metadata": {},
   "outputs": [
    {
     "name": "stdout",
     "output_type": "stream",
     "text": [
      "['Chipotle Employees']\n"
     ]
    }
   ],
   "source": [
    "url = 'https://api.dp.la/v2/items?q=\"chipotle+employees\"&api_key='\n",
    "response = requests.get(url + api_key)\n",
    "dpla_data = response.json()\n",
    "\n",
    "for item in dpla_data['docs']:\n",
    "    print(item['sourceResource']['title'])"
   ]
  },
  {
   "cell_type": "code",
   "execution_count": 85,
   "metadata": {},
   "outputs": [],
   "source": [
    "# Find an item that has same date as my birthday\n",
    "# I will use simple search at first"
   ]
  },
  {
   "cell_type": "code",
   "execution_count": 86,
   "metadata": {},
   "outputs": [
    {
     "name": "stdout",
     "output_type": "stream",
     "text": [
      "['Immediate shipment : January 7th, 1933']\n",
      "['Memphis World, 1959 January 7th']\n",
      "['Memphis World, 1967 January 7th']\n",
      "['Memphis World, 1955 January 7th']\n",
      "[\"Jobber's price list, January 7th, 1944\"]\n",
      "['Letter to J.W.C. Turner from A.L. Easterman, January 7th, 1944']\n",
      "['Inaugural address before the Hahnemann Academy : delivered January 7th, 1857']\n",
      "['Ansel Brooks Smith-Mrs. Marie Smith, January 7th, 1919, Coblenz, Germany']\n",
      "['Probably avalanche that killed Mrs. Henry Fisher & children January 7th, 1923.']\n",
      "['Avalanche that killed the Fisher family January 7th or 8th, 1923.']\n"
     ]
    }
   ],
   "source": [
    "url = 'https://api.dp.la/v2/items?q=\"january+7th\"&api_key='\n",
    "response = requests.get(url + api_key)\n",
    "dpla_data = response.json()\n",
    "\n",
    "for item in dpla_data['docs']:\n",
    "    print(item['sourceResource']['title'])"
   ]
  },
  {
   "cell_type": "code",
   "execution_count": 87,
   "metadata": {},
   "outputs": [
    {
     "name": "stdout",
     "output_type": "stream",
     "text": [
      "{'id': '2aad9c5e280d5d40c6beae0347b86b5b', '@context': 'http://dp.la/api/items/context', '@id': 'http://dp.la/api/items/2aad9c5e280d5d40c6beae0347b86b5b', 'aggregatedCHO': '#sourceResource', 'dataProvider': 'U.S. Department of Agriculture, National Agricultural Library', 'ingestDate': '2021-12-21T17:14:52.265Z', 'ingestType': 'item', 'isShownAt': 'https://www.biodiversitylibrary.org/item/295984', 'object': 'https://www.biodiversitylibrary.org/pagethumb/61032308', 'originalRecord': {'stringValue': '<record \\nxmlns=\"http://www.openarchives.org/OAI/2.0/\" xmlns:xsi=\"http://www.w3.org/2001/XMLSchema-instance\">\\n  <header>\\n    <identifier>oai:biodiversitylibrary.org:item/295984</identifier>\\n    <datestamp>2021-08-08T19:13:49Z</datestamp>\\n    <setSpec>item</setSpec>\\n  </header>\\n  <metadata>\\n    <mods \\n    version=\"3.7\" xsi:schemaLocation=\"http://www.loc.gov/mods/v3 http://www.loc.gov/standards/mods/v3/mods-3-7.xsd\" xmlns:xlink=\"http://www.w3.org/1999/xlink\" xmlns:xsi=\"http://www.w3.org/2001/XMLSchema-instance\" xmlns=\"http://www.loc.gov/mods/v3\">\\n      <titleInfo>\\n        <title>Jobber\\'s price list, January 7th, 1944</title>\\n      </titleInfo>\\n      <name type=\"corporate\">\\n        <namePart>Fidelity Seed Company.</namePart>\\n        <role>\\n          <roleTerm type=\"text\">creator</roleTerm>\\n        </role>\\n      </name>\\n      <name type=\"corporate\">\\n        <namePart>\\n          Henry G. Gilbert Nursery and Seed Trade Catalog Collection.\\n        </namePart>\\n        <role>\\n          <roleTerm type=\"text\">contributor</roleTerm>\\n        </role>\\n      </name>\\n      <typeOfResource>text</typeOfResource>\\n      <genre authority=\"marcgt\">book</genre>\\n      <note type=\"ownership\">\\n        U.S. Department of Agriculture, National Agricultural Library\\n      </note>\\n      <note type=\"content\">1944</note>\\n      <originInfo>\\n        <place>\\n          <placeTerm type=\"text\">Memphis, Tenn. :</placeTerm>\\n        </place>\\n        <publisher>Fidelity Seed Company,</publisher>\\n        <dateIssued>[1944]</dateIssued>\\n        <dateIssued encoding=\"marc\" point=\"start\" keyDate=\"yes\">1944</dateIssued>\\n      </originInfo>\\n      <part>\\n        <detail type=\"volume\">\\n          <number>1944</number>\\n        </detail>\\n      </part>\\n      <physicalDescription>\\n        <form authority=\"marcform\">print</form>\\n      </physicalDescription>\\n      <language>\\n        <languageTerm authority=\"iso639-2b\" type=\"text\">English</languageTerm>\\n      </language>\\n      <subject>\\n        <topic>Grain</topic>\\n      </subject>\\n      <subject>\\n        <topic>Grasses</topic>\\n      </subject>\\n      <subject>\\n        <geographic>Memphis</geographic>\\n      </subject>\\n      <subject>\\n        <topic>Nursery stock</topic>\\n      </subject>\\n      <subject>\\n        <topic>Prices</topic>\\n      </subject>\\n      <subject>\\n        <topic>Seeds</topic>\\n      </subject>\\n      <subject>\\n        <geographic>Tennessee</geographic>\\n      </subject>\\n      <identifier type=\"uri\">\\n        https://www.biodiversitylibrary.org/item/295984\\n      </identifier>\\n      <identifier type=\"oclc\">961475847</identifier>\\n      <location>\\n        <physicalLocation>\\n          U.S. Department of Agriculture, National Agricultural Library\\n        </physicalLocation>\\n        <url access=\"raw object\" usage=\"primary\">\\n          https://www.biodiversitylibrary.org/item/295984\\n        </url>\\n        <url access=\"object in context\" usage=\"primary display\">\\n          https://www.biodiversitylibrary.org/pagethumb/61032308\\n        </url>\\n        <holdingSimple>\\n          <copyInformation>\\n            <enumerationAndChronology>1944</enumerationAndChronology>\\n          </copyInformation>\\n        </holdingSimple>\\n      </location>\\n      <accessCondition type=\"useAndReproduction\">\\n        Public domain. The BHL considers that this work is no longer under copyright protection.\\n      </accessCondition>\\n      <recordInfo>\\n        <recordContentSource authority=\"marcorg\">AGL</recordContentSource>\\n      </recordInfo>\\n</mods>\\n  </metadata>\\n</record>\\n'}, 'provider': {'@id': 'http://dp.la/api/contributor/bhl', 'name': 'Biodiversity Heritage Library'}, 'sourceResource': {'@id': 'http://dp.la/api/items/2aad9c5e280d5d40c6beae0347b86b5b#SourceResource', 'contributor': ['Henry G. Gilbert Nursery and Seed Trade Catalog Collection'], 'creator': ['Fidelity Seed Company'], 'date': [{'displayDate': '1944', 'begin': '1944', 'end': '1944'}], 'description': ['1944'], 'format': ['Print'], 'identifier': ['https://www.biodiversitylibrary.org/item/295984', '961475847'], 'language': [{'name': 'English', 'iso639_3': 'English'}], 'publisher': ['Memphis, Tenn. : Fidelity Seed Company'], 'rights': ['Public domain. The BHL considers that this work is no longer under copyright protection.'], 'spatial': [{'name': 'Memphis'}, {'name': 'Tennessee'}], 'subject': [{'name': 'Grain'}, {'name': 'Grasses'}, {'name': 'Nursery stock'}, {'name': 'Prices'}, {'name': 'Seeds'}], 'title': [\"Jobber's price list, January 7th, 1944\"], 'type': ['text']}, '@type': 'ore:Aggregation', 'rightsCategory': 'Unspecified Rights Status'}\n"
     ]
    }
   ],
   "source": [
    "# Wow, we have many results! I will choose one hat I like the most --> [\"Jobber's price list, January 7th, 1944\"]\n",
    "# Getting the infromation:\n",
    "\n",
    "for item in dpla_data['docs']:\n",
    "    if item['sourceResource']['title'] == [\"Jobber's price list, January 7th, 1944\"]:\n",
    "        print(item)"
   ]
  }
 ],
 "metadata": {
  "interpreter": {
   "hash": "17537ea384b188adc08b2b36c821a0500151eaa67cf62b78c4bd2d22bacbf064"
  },
  "kernelspec": {
   "display_name": "Python 3.9.7 ('base')",
   "language": "python",
   "name": "python3"
  },
  "language_info": {
   "codemirror_mode": {
    "name": "ipython",
    "version": 3
   },
   "file_extension": ".py",
   "mimetype": "text/x-python",
   "name": "python",
   "nbconvert_exporter": "python",
   "pygments_lexer": "ipython3",
   "version": "3.9.7"
  },
  "orig_nbformat": 4
 },
 "nbformat": 4,
 "nbformat_minor": 2
}
